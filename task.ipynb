{
 "cells": [
  {
   "cell_type": "markdown",
   "metadata": {},
   "source": [
    "# Завдання\n",
    "Створити клас `StringReturner`, який має властивість `get_string`.  \n",
    "Метод `get_string` повинен повертати стрічку `\"Hello, Python!\"`."
   ]
  },
  {
   "cell_type": "code",
   "execution_count": null,
   "metadata": {
    "vscode": {
     "languageId": "plaintext"
    }
   },
   "outputs": [],
   "source": [
    "class StringReturner:\n",
    "    def __init__(self, text=\"Hello, Python!\"):\n",
    "        self.text = text\n",
    "    \n",
    "    def get_string(self):\n",
    "        return self.text\n",
    "\n",
    "string_obj = StringReturner()\n",
    "print(string_obj.get_string())"
   ]
  }
 ],
 "metadata": {
  "language_info": {
   "name": "python"
  }
 },
 "nbformat": 4,
 "nbformat_minor": 2
}
