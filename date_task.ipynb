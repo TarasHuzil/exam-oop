{
 "cells": [
  {
   "cell_type": "markdown",
   "metadata": {},
   "source": [
    "# Завдання\n",
    "Створити клас `ProgramDate`, який має метод `get_current_date`.  \n",
    "Метод `get_current_date` повинен повертати поточну дату у форматі `\"YYYY-MM-DD\"`.  \n",
    "Для отримання дати використати модуль `datetime` із стандартної бібліотеки Python.\n"
   ]
  },
  {
   "cell_type": "code",
   "execution_count": null,
   "metadata": {
    "vscode": {
     "languageId": "plaintext"
    }
   },
   "outputs": [],
   "source": [
    "from datetime import date\n",
    "\n",
    "class ProgramDate:\n",
    "    def get_current_date(self):\n",
    "        # Повертає поточну дату у форматі YYYY-MM-DD\n",
    "        return date.today().strftime(\"%Y-%m-%d\")\n",
    "\n",
    "program_date = ProgramDate()\n",
    "print(\"Дата запуску програми:\", program_date.get_current_date())"
   ]
  }
 ],
 "metadata": {
  "language_info": {
   "name": "python"
  }
 },
 "nbformat": 4,
 "nbformat_minor": 2
}
